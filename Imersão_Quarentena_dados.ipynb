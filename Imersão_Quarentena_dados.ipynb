{
  "nbformat": 4,
  "nbformat_minor": 0,
  "metadata": {
    "colab": {
      "name": "Imersão Quarentena dados ",
      "provenance": [],
      "authorship_tag": "ABX9TyMxO3jW6FtlCmfyVbs82XvN",
      "include_colab_link": true
    },
    "kernelspec": {
      "name": "python3",
      "display_name": "Python 3"
    },
    "language_info": {
      "name": "python"
    }
  },
  "cells": [
    {
      "cell_type": "markdown",
      "metadata": {
        "id": "view-in-github",
        "colab_type": "text"
      },
      "source": [
        "<a href=\"https://colab.research.google.com/github/VictorOMiranda/Analista-de-dados-Rocket-Houses.py/blob/main/Imers%C3%A3o_Quarentena_dados.ipynb\" target=\"_parent\"><img src=\"https://colab.research.google.com/assets/colab-badge.svg\" alt=\"Open In Colab\"/></a>"
      ]
    },
    {
      "cell_type": "markdown",
      "metadata": {
        "id": "YgKw859ezy8F"
      },
      "source": [
        "Aula 01 \n",
        "\n",
        "Desafio 01: investigar porque a classe tratamento é desbalanceada\n",
        "\n",
        "desafio 02: plotar as ultimas 5 linhas da tabela. \n",
        "\n",
        "desafio 03: proporção das classes tratamento \n",
        "\n",
        "desafio 04: Quantas drogas foram investigadas\n",
        "\n",
        "desafio 05: procurar o metodo query\n",
        "\n",
        "desafio 06: renomear as colunas tirando o hífen\n",
        "\n",
        "desafio 07: colocar titulo no gráfico. \n",
        "\n",
        "desafio 08: criar um resumo do que foi aprendido.\n",
        "\n",
        "aula 2\n",
        "\n",
        "desafio 01 : ordernar o grafico to 5  compostos"
      ]
    },
    {
      "cell_type": "code",
      "metadata": {
        "id": "1t9gdqlEzt9I"
      },
      "source": [
        "import pandas as pd\n",
        "import matplotlib.pyplot as plt\n",
        "import seaborn as sns\n",
        "#confing seaborn\n",
        "sns.set()\n",
        "url = 'https://github.com/alura-cursos/imersaodados3/blob/main/dados/dados_experimentos.zip?raw=true'\n",
        "dados = pd.read_csv(url, compression ='zip')"
      ],
      "execution_count": 2,
      "outputs": []
    },
    {
      "cell_type": "code",
      "metadata": {
        "colab": {
          "base_uri": "https://localhost:8080/"
        },
        "id": "E2VzkgjP0PHZ",
        "outputId": "00c2fdde-4ab6-4d7e-e303-d02b6847972d"
      },
      "source": [
        "#desafio 01:\n",
        "print (dados['tratamento'].value_counts(normalize=True))\n",
        "dados['tratamento'].value_counts()"
      ],
      "execution_count": 3,
      "outputs": [
        {
          "output_type": "stream",
          "text": [
            "com_droga       0.921643\n",
            "com_controle    0.078357\n",
            "Name: tratamento, dtype: float64\n"
          ],
          "name": "stdout"
        },
        {
          "output_type": "execute_result",
          "data": {
            "text/plain": [
              "com_droga       21948\n",
              "com_controle     1866\n",
              "Name: tratamento, dtype: int64"
            ]
          },
          "metadata": {
            "tags": []
          },
          "execution_count": 3
        }
      ]
    },
    {
      "cell_type": "code",
      "metadata": {
        "colab": {
          "base_uri": "https://localhost:8080/"
        },
        "id": "7r_pWJAh0RED",
        "outputId": "78043923-cf3a-4129-a390-ee5d17dc24bc"
      },
      "source": [
        "#desafio 02:\n",
        "dados.tail"
      ],
      "execution_count": 7,
      "outputs": [
        {
          "output_type": "execute_result",
          "data": {
            "text/plain": [
              "<bound method NDFrame.tail of                  id    tratamento  tempo dose  ...    c-96    c-97    c-98    c-99\n",
              "0      id_000644bb2     com_droga     24   D1  ... -0.3981  0.2139  0.3801  0.4176\n",
              "1      id_000779bfc     com_droga     72   D1  ...  0.1522  0.1241  0.6077  0.7371\n",
              "2      id_000a6266a     com_droga     48   D1  ... -0.6417 -0.2187 -1.4080  0.6931\n",
              "3      id_0015fd391     com_droga     48   D1  ... -1.6210 -0.8784 -0.3876 -0.8154\n",
              "4      id_001626bd3     com_droga     72   D2  ...  0.1094  0.2885 -0.3786  0.7125\n",
              "...             ...           ...    ...  ...  ...     ...     ...     ...     ...\n",
              "23809  id_fffb1ceed     com_droga     24   D2  ...  0.0631  0.9171  0.5258  0.4680\n",
              "23810  id_fffb70c0c     com_droga     24   D2  ... -0.2084 -0.1224 -0.2715  0.3689\n",
              "23811  id_fffc1c3f4  com_controle     48   D2  ...  0.2256  0.7592  0.6656  0.3808\n",
              "23812  id_fffcb9e7c     com_droga     24   D1  ...  0.1732  0.7015 -0.6290  0.0740\n",
              "23813  id_ffffdd77b     com_droga     72   D1  ... -3.5770 -0.4775 -2.1500 -4.2520\n",
              "\n",
              "[23814 rows x 877 columns]>"
            ]
          },
          "metadata": {
            "tags": []
          },
          "execution_count": 7
        }
      ]
    },
    {
      "cell_type": "code",
      "metadata": {
        "colab": {
          "base_uri": "https://localhost:8080/",
          "height": 300
        },
        "id": "3nJ6O7Rr0StS",
        "outputId": "51bf244f-861c-4ed1-a7a4-a55e9427b0ac"
      },
      "source": [
        "#desafio 03\n",
        "dados['tratamento'].value_counts().plot.pie()\n",
        "dados['tratamento'].value_counts( normalize=True)"
      ],
      "execution_count": 8,
      "outputs": [
        {
          "output_type": "execute_result",
          "data": {
            "text/plain": [
              "com_droga       0.921643\n",
              "com_controle    0.078357\n",
              "Name: tratamento, dtype: float64"
            ]
          },
          "metadata": {
            "tags": []
          },
          "execution_count": 8
        },
        {
          "output_type": "display_data",
          "data": {
            "image/png": "[encoded data removed]",
            "text/plain": [
              "<Figure size 432x288 with 1 Axes>"
            ]
          },
          "metadata": {
            "tags": []
          }
        }
      ]
    },
    {
      "cell_type": "code",
      "metadata": {
        "id": "8rJPBMnh0VCe"
      },
      "source": [
        "#desafio 04\n",
        "dados.rename(columns={'droga': 'composto'}, inplace =True)\n",
        "cod_composto= dados[\"composto\"].value_counts ()[0:5]"
      ],
      "execution_count": 9,
      "outputs": []
    },
    {
      "cell_type": "code",
      "metadata": {
        "id": "wmUmBzsY0WmX"
      },
      "source": [
        "cod_compostos= dados['composto'].value_counts().index[0:5]"
      ],
      "execution_count": 10,
      "outputs": []
    },
    {
      "cell_type": "code",
      "metadata": {
        "colab": {
          "base_uri": "https://localhost:8080/",
          "height": 518
        },
        "id": "zE4NWtqj0YRr",
        "outputId": "25ddac74-d310-4971-8c59-726eec46b216"
      },
      "source": [
        "cod_compostos\n",
        "dados.query('composto in @cod_compostos')\n",
        "plt.figure(figsize=(10,8))\n",
        "ax = sns.countplot(x='composto', data=dados.query('composto in @cod_compostos'))\n",
        "ax.set_title ('TOP 5 COMPOSTOS')\n",
        "plt.show()"
      ],
      "execution_count": 11,
      "outputs": [
        {
          "output_type": "display_data",
          "data": {
            "image/png": "[encoded data removed]",
            "text/plain": [
              "<Figure size 720x576 with 1 Axes>"
            ]
          },
          "metadata": {
            "tags": []
          }
        }
      ]
    },
    {
      "cell_type": "code",
      "metadata": {
        "id": "hFyiWSlC0aTK"
      },
      "source": [
        ""
      ],
      "execution_count": null,
      "outputs": []
    }
  ]
}