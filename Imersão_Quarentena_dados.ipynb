{
  "nbformat": 4,
  "nbformat_minor": 0,
  "metadata": {
    "colab": {
      "name": "Imersão Quarentena dados ",
      "provenance": [],
      "authorship_tag": "ABX9TyOLM2Z+Oae93y9hjBHPo7g/",
      "include_colab_link": true
    },
    "kernelspec": {
      "name": "python3",
      "display_name": "Python 3"
    },
    "language_info": {
      "name": "python"
    }
  },
  "cells": [
    {
      "cell_type": "markdown",
      "metadata": {
        "id": "view-in-github",
        "colab_type": "text"
      },
      "source": [
        "<a href=\"https://colab.research.google.com/github/VictorOMiranda/Analista-de-dados-Rocket-Houses.py/blob/main/Imers%C3%A3o_Quarentena_dados.ipynb\" target=\"_parent\"><img src=\"https://colab.research.google.com/assets/colab-badge.svg\" alt=\"Open In Colab\"/></a>"
      ]
    },
    {
      "cell_type": "markdown",
      "metadata": {
        "id": "YgKw859ezy8F"
      },
      "source": [
        "Aula 01 \n",
        "\n",
        "Desafio 01: investigar porque a classe tratamento é desbalanceada\n",
        "\n",
        "desafio 02: plotar as ultimas 5 linhas da tabela. \n",
        "\n",
        "desafio 03: proporção das classes tratamento \n",
        "\n",
        "desafio 04: Quantas drogas foram investigadas\n",
        "\n",
        "desafio 05: procurar o metodo query\n",
        "\n",
        "desafio 06: renomear as colunas tirando o hífen\n",
        "\n",
        "desafio 07: colocar titulo no gráfico. \n",
        "\n",
        "desafio 08: criar um resumo do que foi aprendido.\n",
        "\n",
        "aula 2\n",
        "\n",
        "desafio 01 : ordernar o grafico to 5  compostos\n",
        "\n",
        "desagio 02 : melhorar a vizualização dos gráficos alterando o tamanho da fonte.\n",
        "\n",
        "desafio  03: plotar os histogramas com o Seaborn\n",
        "\n"
      ]
    },
    {
      "cell_type": "code",
      "metadata": {
        "id": "1t9gdqlEzt9I"
      },
      "source": [
        "import pandas as pd\n",
        "import matplotlib.pyplot as plt\n",
        "import seaborn as sns\n",
        "#confing seaborn\n",
        "sns.set()\n",
        "url = 'https://github.com/alura-cursos/imersaodados3/blob/main/dados/dados_experimentos.zip?raw=true'\n",
        "dados = pd.read_csv(url, compression ='zip')"
      ],
      "execution_count": 1,
      "outputs": []
    },
    {
      "cell_type": "code",
      "metadata": {
        "colab": {
          "base_uri": "https://localhost:8080/"
        },
        "id": "E2VzkgjP0PHZ",
        "outputId": "6116830e-1d58-4c77-b15e-2ac687b00c8c"
      },
      "source": [
        "#desafio 01:\n",
        "print (dados['tratamento'].value_counts(normalize=True))\n",
        "dados['tratamento'].value_counts()"
      ],
      "execution_count": 2,
      "outputs": [
        {
          "output_type": "stream",
          "text": [
            "com_droga       0.921643\n",
            "com_controle    0.078357\n",
            "Name: tratamento, dtype: float64\n"
          ],
          "name": "stdout"
        },
        {
          "output_type": "execute_result",
          "data": {
            "text/plain": [
              "com_droga       21948\n",
              "com_controle     1866\n",
              "Name: tratamento, dtype: int64"
            ]
          },
          "metadata": {
            "tags": []
          },
          "execution_count": 2
        }
      ]
    },
    {
      "cell_type": "code",
      "metadata": {
        "colab": {
          "base_uri": "https://localhost:8080/"
        },
        "id": "7r_pWJAh0RED",
        "outputId": "47a0b084-f1ce-4253-96e0-5904d5a47ec8"
      },
      "source": [
        "#desafio 02:\n",
        "dados.tail"
      ],
      "execution_count": 3,
      "outputs": [
        {
          "output_type": "execute_result",
          "data": {
            "text/plain": [
              "<bound method NDFrame.tail of                  id    tratamento  tempo dose  ...    c-96    c-97    c-98    c-99\n",
              "0      id_000644bb2     com_droga     24   D1  ... -0.3981  0.2139  0.3801  0.4176\n",
              "1      id_000779bfc     com_droga     72   D1  ...  0.1522  0.1241  0.6077  0.7371\n",
              "2      id_000a6266a     com_droga     48   D1  ... -0.6417 -0.2187 -1.4080  0.6931\n",
              "3      id_0015fd391     com_droga     48   D1  ... -1.6210 -0.8784 -0.3876 -0.8154\n",
              "4      id_001626bd3     com_droga     72   D2  ...  0.1094  0.2885 -0.3786  0.7125\n",
              "...             ...           ...    ...  ...  ...     ...     ...     ...     ...\n",
              "23809  id_fffb1ceed     com_droga     24   D2  ...  0.0631  0.9171  0.5258  0.4680\n",
              "23810  id_fffb70c0c     com_droga     24   D2  ... -0.2084 -0.1224 -0.2715  0.3689\n",
              "23811  id_fffc1c3f4  com_controle     48   D2  ...  0.2256  0.7592  0.6656  0.3808\n",
              "23812  id_fffcb9e7c     com_droga     24   D1  ...  0.1732  0.7015 -0.6290  0.0740\n",
              "23813  id_ffffdd77b     com_droga     72   D1  ... -3.5770 -0.4775 -2.1500 -4.2520\n",
              "\n",
              "[23814 rows x 877 columns]>"
            ]
          },
          "metadata": {
            "tags": []
          },
          "execution_count": 3
        }
      ]
    },
    {
      "cell_type": "code",
      "metadata": {
        "colab": {
          "base_uri": "https://localhost:8080/",
          "height": 300
        },
        "id": "3nJ6O7Rr0StS",
        "outputId": "d3c4f3e5-6772-4db5-f267-42db1a262a99"
      },
      "source": [
        "#desafio 03\n",
        "dados['tratamento'].value_counts().plot.pie()\n",
        "dados['tratamento'].value_counts( normalize=True)"
      ],
      "execution_count": 4,
      "outputs": [
        {
          "output_type": "execute_result",
          "data": {
            "text/plain": [
              "com_droga       0.921643\n",
              "com_controle    0.078357\n",
              "Name: tratamento, dtype: float64"
            ]
          },
          "metadata": {
            "tags": []
          },
          "execution_count": 4
        },
        {
          "output_type": "display_data",
          "data": {
            "image/png": "[encoded data removed]",
            "text/plain": [
              "<Figure size 432x288 with 1 Axes>"
            ]
          },
          "metadata": {
            "tags": []
          }
        }
      ]
    },
    {
      "cell_type": "code",
      "metadata": {
        "id": "8rJPBMnh0VCe"
      },
      "source": [
        "#desafio 04\n",
        "dados.rename(columns={'droga': 'composto'}, inplace =True)\n",
        "cod_composto= dados[\"composto\"].value_counts ()[0:5]"
      ],
      "execution_count": 5,
      "outputs": []
    },
    {
      "cell_type": "code",
      "metadata": {
        "id": "wmUmBzsY0WmX"
      },
      "source": [
        "cod_compostos= dados['composto'].value_counts().index[0:5]"
      ],
      "execution_count": 6,
      "outputs": []
    },
    {
      "cell_type": "code",
      "metadata": {
        "colab": {
          "base_uri": "https://localhost:8080/",
          "height": 301
        },
        "id": "zE4NWtqj0YRr",
        "outputId": "a6b7c1dc-9155-4372-e34b-0c1c23d58107"
      },
      "source": [
        "cod_compostos\n",
        "dados.query('composto in @cod_compostos')\n",
        "plt.figure(figsize=(6,4))\n",
        "ax = sns.countplot(x='composto', data=dados.query('composto in @cod_compostos'), order = cod_compostos)\n",
        "ax.set_title ('TOP 5 COMPOSTOS')\n",
        "plt.show()"
      ],
      "execution_count": 12,
      "outputs": [
        {
          "output_type": "display_data",
          "data": {
            "image/png": "[encoded data removed]",
            "text/plain": [
              "<Figure size 432x288 with 1 Axes>"
            ]
          },
          "metadata": {
            "tags": [],
            "needs_background": "light"
          }
        }
      ]
    },
    {
      "cell_type": "code",
      "metadata": {
        "id": "hFyiWSlC0aTK",
        "colab": {
          "base_uri": "https://localhost:8080/",
          "height": 227
        },
        "outputId": "cf808ebd-b967-4c5a-d090-b7b9c6141127"
      },
      "source": [
        "plt.figure(figsize=(15,10))\n",
        "plt.subplot(3,2,1)\n",
        "dados['g-0'].hist(bins =50 )\n",
        "plt.subplot(3,2,2)\n",
        "dados['g-19'].hist(bins= 50 )\n"
      ],
      "execution_count": 23,
      "outputs": [
        {
          "output_type": "execute_result",
          "data": {
            "text/plain": [
              "<matplotlib.axes._subplots.AxesSubplot at 0x7fb1c968d4d0>"
            ]
          },
          "metadata": {
            "tags": []
          },
          "execution_count": 23
        },
        {
          "output_type": "display_data",
          "data": {
            "image/png": "[encoded data removed]",
            "text/plain": [
              "<Figure size 1080x720 with 2 Axes>"
            ]
          },
          "metadata": {
            "tags": [],
            "needs_background": "light"
          }
        }
      ]
    },
    {
      "cell_type": "code",
      "metadata": {
        "colab": {
          "base_uri": "https://localhost:8080/",
          "height": 415
        },
        "id": "mRyUrgC4JP7w",
        "outputId": "f1d412a2-9f9c-4bdd-d69f-c174fdaef442"
      },
      "source": [
        "dados.loc[:,'g-0':'g-771'].describe().T\n"
      ],
      "execution_count": 29,
      "outputs": [
        {
          "output_type": "execute_result",
          "data": {
            "text/html": [
              "<div>\n",
              "<style scoped>\n",
              "    .dataframe tbody tr th:only-of-type {\n",
              "        vertical-align: middle;\n",
              "    }\n",
              "\n",
              "    .dataframe tbody tr th {\n",
              "        vertical-align: top;\n",
              "    }\n",
              "\n",
              "    .dataframe thead th {\n",
              "        text-align: right;\n",
              "    }\n",
              "</style>\n",
              "<table border=\"1\" class=\"dataframe\">\n",
              "  <thead>\n",
              "    <tr style=\"text-align: right;\">\n",
              "      <th></th>\n",
              "      <th>count</th>\n",
              "      <th>mean</th>\n",
              "      <th>std</th>\n",
              "      <th>min</th>\n",
              "      <th>25%</th>\n",
              "      <th>50%</th>\n",
              "      <th>75%</th>\n",
              "      <th>max</th>\n",
              "    </tr>\n",
              "  </thead>\n",
              "  <tbody>\n",
              "    <tr>\n",
              "      <th>g-0</th>\n",
              "      <td>23814.0</td>\n",
              "      <td>0.248366</td>\n",
              "      <td>1.393399</td>\n",
              "      <td>-5.513</td>\n",
              "      <td>-0.473075</td>\n",
              "      <td>-0.00885</td>\n",
              "      <td>0.525700</td>\n",
              "      <td>10.000</td>\n",
              "    </tr>\n",
              "    <tr>\n",
              "      <th>g-1</th>\n",
              "      <td>23814.0</td>\n",
              "      <td>-0.095684</td>\n",
              "      <td>0.812363</td>\n",
              "      <td>-5.737</td>\n",
              "      <td>-0.562200</td>\n",
              "      <td>-0.04660</td>\n",
              "      <td>0.403075</td>\n",
              "      <td>5.039</td>\n",
              "    </tr>\n",
              "    <tr>\n",
              "      <th>g-2</th>\n",
              "      <td>23814.0</td>\n",
              "      <td>0.152253</td>\n",
              "      <td>1.035731</td>\n",
              "      <td>-9.104</td>\n",
              "      <td>-0.437750</td>\n",
              "      <td>0.07520</td>\n",
              "      <td>0.663925</td>\n",
              "      <td>8.257</td>\n",
              "    </tr>\n",
              "    <tr>\n",
              "      <th>g-3</th>\n",
              "      <td>23814.0</td>\n",
              "      <td>0.081971</td>\n",
              "      <td>0.950012</td>\n",
              "      <td>-5.998</td>\n",
              "      <td>-0.429575</td>\n",
              "      <td>0.00805</td>\n",
              "      <td>0.463400</td>\n",
              "      <td>10.000</td>\n",
              "    </tr>\n",
              "    <tr>\n",
              "      <th>g-4</th>\n",
              "      <td>23814.0</td>\n",
              "      <td>0.057347</td>\n",
              "      <td>1.032091</td>\n",
              "      <td>-6.369</td>\n",
              "      <td>-0.470925</td>\n",
              "      <td>-0.02690</td>\n",
              "      <td>0.465375</td>\n",
              "      <td>10.000</td>\n",
              "    </tr>\n",
              "    <tr>\n",
              "      <th>...</th>\n",
              "      <td>...</td>\n",
              "      <td>...</td>\n",
              "      <td>...</td>\n",
              "      <td>...</td>\n",
              "      <td>...</td>\n",
              "      <td>...</td>\n",
              "      <td>...</td>\n",
              "      <td>...</td>\n",
              "    </tr>\n",
              "    <tr>\n",
              "      <th>g-767</th>\n",
              "      <td>23814.0</td>\n",
              "      <td>-0.076251</td>\n",
              "      <td>1.115477</td>\n",
              "      <td>-10.000</td>\n",
              "      <td>-0.506200</td>\n",
              "      <td>0.00990</td>\n",
              "      <td>0.511175</td>\n",
              "      <td>6.317</td>\n",
              "    </tr>\n",
              "    <tr>\n",
              "      <th>g-768</th>\n",
              "      <td>23814.0</td>\n",
              "      <td>0.134162</td>\n",
              "      <td>0.951264</td>\n",
              "      <td>-4.269</td>\n",
              "      <td>-0.353100</td>\n",
              "      <td>0.00540</td>\n",
              "      <td>0.409075</td>\n",
              "      <td>10.000</td>\n",
              "    </tr>\n",
              "    <tr>\n",
              "      <th>g-769</th>\n",
              "      <td>23814.0</td>\n",
              "      <td>-0.128018</td>\n",
              "      <td>1.230636</td>\n",
              "      <td>-10.000</td>\n",
              "      <td>-0.544600</td>\n",
              "      <td>0.00060</td>\n",
              "      <td>0.498500</td>\n",
              "      <td>5.911</td>\n",
              "    </tr>\n",
              "    <tr>\n",
              "      <th>g-770</th>\n",
              "      <td>23814.0</td>\n",
              "      <td>-0.219210</td>\n",
              "      <td>1.326193</td>\n",
              "      <td>-10.000</td>\n",
              "      <td>-0.554400</td>\n",
              "      <td>0.02870</td>\n",
              "      <td>0.496400</td>\n",
              "      <td>10.000</td>\n",
              "    </tr>\n",
              "    <tr>\n",
              "      <th>g-771</th>\n",
              "      <td>23814.0</td>\n",
              "      <td>0.101524</td>\n",
              "      <td>1.417674</td>\n",
              "      <td>-10.000</td>\n",
              "      <td>-0.523800</td>\n",
              "      <td>-0.00650</td>\n",
              "      <td>0.536950</td>\n",
              "      <td>10.000</td>\n",
              "    </tr>\n",
              "  </tbody>\n",
              "</table>\n",
              "<p>772 rows × 8 columns</p>\n",
              "</div>"
            ],
            "text/plain": [
              "         count      mean       std     min       25%      50%       75%     max\n",
              "g-0    23814.0  0.248366  1.393399  -5.513 -0.473075 -0.00885  0.525700  10.000\n",
              "g-1    23814.0 -0.095684  0.812363  -5.737 -0.562200 -0.04660  0.403075   5.039\n",
              "g-2    23814.0  0.152253  1.035731  -9.104 -0.437750  0.07520  0.663925   8.257\n",
              "g-3    23814.0  0.081971  0.950012  -5.998 -0.429575  0.00805  0.463400  10.000\n",
              "g-4    23814.0  0.057347  1.032091  -6.369 -0.470925 -0.02690  0.465375  10.000\n",
              "...        ...       ...       ...     ...       ...      ...       ...     ...\n",
              "g-767  23814.0 -0.076251  1.115477 -10.000 -0.506200  0.00990  0.511175   6.317\n",
              "g-768  23814.0  0.134162  0.951264  -4.269 -0.353100  0.00540  0.409075  10.000\n",
              "g-769  23814.0 -0.128018  1.230636 -10.000 -0.544600  0.00060  0.498500   5.911\n",
              "g-770  23814.0 -0.219210  1.326193 -10.000 -0.554400  0.02870  0.496400  10.000\n",
              "g-771  23814.0  0.101524  1.417674 -10.000 -0.523800 -0.00650  0.536950  10.000\n",
              "\n",
              "[772 rows x 8 columns]"
            ]
          },
          "metadata": {
            "tags": []
          },
          "execution_count": 29
        }
      ]
    },
    {
      "cell_type": "code",
      "metadata": {
        "colab": {
          "base_uri": "https://localhost:8080/",
          "height": 227
        },
        "id": "qOOWpayHKeE0",
        "outputId": "b3111610-88c0-4ef2-f69d-ec504db2c2ea"
      },
      "source": [
        "plt.figure(figsize=(15,10))\n",
        "plt.subplot(3,3,1)\n",
        "dados.loc[:,'g-0':'g-771'].describe().T['mean'].hist(bins=30)\n",
        "plt.subplot(3,3,2)\n",
        "dados.loc[:,'g-0':'g-771'].describe().T['min'].hist(bins=30)\n",
        "plt.subplot(3,3,3)\n",
        "dados.loc[:,'g-0':'g-771'].describe().T['max'].hist(bins=30)"
      ],
      "execution_count": 52,
      "outputs": [
        {
          "output_type": "execute_result",
          "data": {
            "text/plain": [
              "<matplotlib.axes._subplots.AxesSubplot at 0x7fb1c7e28c10>"
            ]
          },
          "metadata": {
            "tags": []
          },
          "execution_count": 52
        },
        {
          "output_type": "display_data",
          "data": {
            "image/png": "[encoded data removed]",
            "text/plain": [
              "<Figure size 1080x720 with 3 Axes>"
            ]
          },
          "metadata": {
            "tags": [],
            "needs_background": "light"
          }
        }
      ]
    },
    {
      "cell_type": "code",
      "metadata": {
        "colab": {
          "base_uri": "https://localhost:8080/",
          "height": 303
        },
        "id": "D9XS7mliPXkW",
        "outputId": "f55f17d7-0f7c-4543-bdae-addfdaa9ac15"
      },
      "source": [
        "sns.boxplot(x= 'g-0' ,data=dados)"
      ],
      "execution_count": 53,
      "outputs": [
        {
          "output_type": "execute_result",
          "data": {
            "text/plain": [
              "<matplotlib.axes._subplots.AxesSubplot at 0x7fb1c7fd3610>"
            ]
          },
          "metadata": {
            "tags": []
          },
          "execution_count": 53
        },
        {
          "output_type": "display_data",
          "data": {
            "image/png": "[encoded data removed]",
            "text/plain": [
              "<Figure size 432x288 with 1 Axes>"
            ]
          },
          "metadata": {
            "tags": [],
            "needs_background": "light"
          }
        }
      ]
    }
  ]
}